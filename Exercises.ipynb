{
 "cells": [
  {
   "cell_type": "markdown",
   "metadata": {},
   "source": [
    "#### Exercise 1 - Class Inheritance"
   ]
  },
  {
   "cell_type": "markdown",
   "metadata": {},
   "source": [
    "Create an Employee class that sets an employee's first name, last name, job title, salary, and email. The Employee class should have a class attribute for the raise amount set to 5% (1.05). Create a method that will apply the raise to an employee's salary."
   ]
  },
  {
   "cell_type": "code",
   "execution_count": 76,
   "metadata": {},
   "outputs": [],
   "source": [
    "class Employee:\n",
    "    raise_amount = 1.05 # Class Attribute to raise salary 5%\n",
    "    \n",
    "    def __init__(self, first, last, salary):\n",
    "        self.first_name = first\n",
    "        self.last_name = last\n",
    "        self.salary = salary\n",
    "        self.email = first.lower() + '.' + last.lower() + \"@company.org\"\n",
    "    \n",
    "    def get_full_name(self):\n",
    "        return self.first_name + ' ' + self.last_name\n",
    "    \n",
    "    def apply_raise(self):\n",
    "        self.salary *= Employee.raise_amount # self.salary = self.salary * Employee.raise_amount\n",
    "        print(f\"Congrats {self.get_full_name()}, you have received a raise and your new salary is {self.salary}\")   "
   ]
  },
  {
   "cell_type": "code",
   "execution_count": 77,
   "metadata": {},
   "outputs": [],
   "source": [
    "emp_1 = Employee('Charlie', 'Bucket', 100000)\n",
    "emp_2 = Employee('Veruca', 'Salt', 50000)\n",
    "def get_full_name(employee_instance):\n",
    "    return employee_instance.first_name + ' ' + employee_instance.last_name\n"
   ]
  },
  {
   "cell_type": "markdown",
   "metadata": {},
   "source": [
    "Create two more classes that inherit from the Employee class. One for Sales and one for Development. Both of these classes will have the same attributes as the Employee.<br>\n",
    "- For the Sales employees, add a phone number attribute on instantiation using the super method. \n",
    "- Create a method on the Sales class that will Send a Follow Up Email. It should take in a customer name and \"send\" aka print a formatted email \"Dear *customer*, Thank you for your interest in our product. Please let me know if you have any questions. My email is *email* or my phone number is *phone number*. Thanks, *full name*\"\n",
    "- Create a method on the Development class called code that will print out \"*full name* is writing code\"."
   ]
  },
  {
   "cell_type": "code",
   "execution_count": 81,
   "metadata": {},
   "outputs": [],
   "source": [
    "class Employee:\n",
    "    raise_amount = 1.05 # Class Attribute to raise salary 5%\n",
    "    \n",
    "    def __init__(self, first, last, salary):\n",
    "        self.first_name = first\n",
    "        self.last_name = last\n",
    "        self.salary = salary\n",
    "        self.email = first.lower() + '.' + last.lower() + \"@company.org\"\n",
    "    \n",
    "    def get_full_name(self):\n",
    "        return self.first_name + ' ' + self.last_name\n",
    "    \n",
    "    def apply_raise(self):\n",
    "        self.salary *= Employee.raise_amount # self.salary = self.salary * Employee.raise_amount\n",
    "        print(f\"Congrats {self.get_full_name()}, you have received a raise and your new salary is {self.salary}\")   \n",
    "\n",
    "class Sales(Employee):\n",
    "    def __init__(self, first, last, salary, phone_number):\n",
    "        super().__init__(first, last, salary,)\n",
    "        self.phone_number = phone_number\n",
    "            \n",
    "    def send_email(self, x):\n",
    "        print(f\"\"\"Dear {x}, Thank you for your interest in our product. \n",
    "Please let me know if you have any questions.\\nMy email is {self.email}, or my phone number is {self.phone_number}. \n",
    "        Thanks, {self.first_name} {self.last_name}!\"\"\")\n",
    "        \n",
    "    def apply_raise(self):\n",
    "        super().apply_raise()\n",
    "       \n",
    "        \n",
    "class Development(Employee):\n",
    "        def __init__(self, first, last, salary):\n",
    "            super().__init__(first, last, salary,)\n",
    "            \n",
    "        def __str__(self):\n",
    "            return f\"Hello, {self.first_name} {self.last_name} here, just writting code.\"  \n",
    "        \n",
    "        def apply_raise(self):\n",
    "            super().apply_raise()\n",
    "        "
   ]
  },
  {
   "cell_type": "markdown",
   "metadata": {},
   "source": [
    "- Create an instance of a Sales Employee with a salary of $50,000.\n",
    "- Send follow up emails to \"Mike O'Neil\" and \"Hannah Stern\"\n",
    "- Give the employee a raise and print the salary"
   ]
  },
  {
   "cell_type": "code",
   "execution_count": 82,
   "metadata": {},
   "outputs": [
    {
     "name": "stdout",
     "output_type": "stream",
     "text": [
      "Dear Mike O'Neil, Thank you for your interest in our product. \n",
      "Please let me know if you have any questions.\n",
      "My email is michael.scott@company.org, or my phone number is 911. \n",
      "        Thanks, Michael Scott!\n",
      "None\n",
      "Dear Hannah Stern, Thank you for your interest in our product. \n",
      "Please let me know if you have any questions.\n",
      "My email is michael.scott@company.org, or my phone number is 911. \n",
      "        Thanks, Michael Scott!\n",
      "None\n",
      "Congrats Michael Scott, you have received a raise and your new salary is 52500.0\n",
      "None\n"
     ]
    }
   ],
   "source": [
    "employee1 = Employee(\"ish\", \"ces\", 10)\n",
    "employee2= Sales(\"Michael\", \"Scott\",50000, 911)\n",
    "print(employee2.send_email(\"Mike O'Neil\"))\n",
    "print(employee2.send_email(\"Hannah Stern\"))\n",
    "print(employee2.apply_raise())\n",
    "\n"
   ]
  },
  {
   "cell_type": "markdown",
   "metadata": {},
   "source": [
    "- Create an instance of a Development Employee with a salary of $100,000\n",
    "- Write some code with this employee\n",
    "- Give the employee a raise and print the salary"
   ]
  },
  {
   "cell_type": "code",
   "execution_count": 84,
   "metadata": {},
   "outputs": [
    {
     "name": "stdout",
     "output_type": "stream",
     "text": [
      "Hello, Jim Halpert here, just writting code.\n",
      "Congrats Jim Halpert, you have received a raise and your new salary is 105000.0\n",
      "None\n"
     ]
    }
   ],
   "source": [
    "employee3 = Development(\"Jim\", \"Halpert\", 100000)\n",
    "print(employee3)\n",
    "print(employee3.apply_raise())"
   ]
  },
  {
   "cell_type": "markdown",
   "metadata": {},
   "source": [
    "#### Exercise 2 - Importing Modules"
   ]
  },
  {
   "cell_type": "markdown",
   "metadata": {},
   "source": [
    "In VS Code, create a module titled `geometry` and add two functions in there. One that will calculate the area of a circle given a radius. The second will find the hypotenuse of a right angle given the two sides. Import the module or the functions from the module and use it to find the answers to the below questions"
   ]
  },
  {
   "cell_type": "markdown",
   "metadata": {},
   "source": [
    "What is the area of a circle with a radius of 7cm?"
   ]
  },
  {
   "cell_type": "code",
   "execution_count": 85,
   "metadata": {},
   "outputs": [
    {
     "ename": "ModuleNotFoundError",
     "evalue": "No module named 'part2'",
     "output_type": "error",
     "traceback": [
      "\u001b[0;31m---------------------------------------------------------------------------\u001b[0m",
      "\u001b[0;31mModuleNotFoundError\u001b[0m                       Traceback (most recent call last)",
      "\u001b[0;32m/var/folders/hp/k1jc19194m30p_xw20lbhc640000gn/T/ipykernel_19025/1694126678.py\u001b[0m in \u001b[0;36m<module>\u001b[0;34m\u001b[0m\n\u001b[0;32m----> 1\u001b[0;31m \u001b[0;32mimport\u001b[0m \u001b[0mpart2\u001b[0m\u001b[0;34m.\u001b[0m\u001b[0mpy\u001b[0m\u001b[0;34m\u001b[0m\u001b[0;34m\u001b[0m\u001b[0m\n\u001b[0m\u001b[1;32m      2\u001b[0m \u001b[0;34m\u001b[0m\u001b[0m\n\u001b[1;32m      3\u001b[0m \u001b[0mfind_area\u001b[0m\u001b[0;34m(\u001b[0m\u001b[0;36m10\u001b[0m\u001b[0;34m)\u001b[0m\u001b[0;34m\u001b[0m\u001b[0;34m\u001b[0m\u001b[0m\n",
      "\u001b[0;31mModuleNotFoundError\u001b[0m: No module named 'part2'"
     ]
    }
   ],
   "source": [
    "import part2.py\n"
   ]
  },
  {
   "cell_type": "code",
   "execution_count": null,
   "metadata": {},
   "outputs": [],
   "source": [
    "import math\n",
    "def find_area(circumference):\n",
    "    area = (circumference * circumference)/(4 * math.pi)\n",
    "    print(f\"Area Of a Circle {area:.2f}\")\n",
    "\n",
    "find_area(10)"
   ]
  },
  {
   "cell_type": "markdown",
   "metadata": {},
   "source": [
    "What is the hypotenuse of a right angle with sides of 3in and 4in?"
   ]
  },
  {
   "cell_type": "code",
   "execution_count": null,
   "metadata": {},
   "outputs": [],
   "source": []
  },
  {
   "cell_type": "code",
   "execution_count": null,
   "metadata": {},
   "outputs": [],
   "source": [
    "def find_hypotenuse(side1, side2):\n",
    "    hypotenuse = math.hypot(side1, side2)\n",
    "    print(f\"The hypotenuse of a right angle with sides measuring {side2}in {side1}in is {hypotenuse}in\")\n",
    "\n",
    "find_hypotenuse(3, 4)"
   ]
  }
 ],
 "metadata": {
  "kernelspec": {
   "display_name": "Python 3 (ipykernel)",
   "language": "python",
   "name": "python3"
  },
  "language_info": {
   "codemirror_mode": {
    "name": "ipython",
    "version": 3
   },
   "file_extension": ".py",
   "mimetype": "text/x-python",
   "name": "python",
   "nbconvert_exporter": "python",
   "pygments_lexer": "ipython3",
   "version": "3.9.13"
  }
 },
 "nbformat": 4,
 "nbformat_minor": 4
}
