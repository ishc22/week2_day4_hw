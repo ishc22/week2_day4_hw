{
 "cells": [
  {
   "cell_type": "code",
   "execution_count": null,
   "id": "cddc3d95",
   "metadata": {},
   "outputs": [],
   "source": [
    "users_info_dict = {}\n",
    "question = input(\"Do you want to add a contact? Type 'y' yes, 'q' to quit \")\n",
    "address = input(\"Whats your address?\")\n",
    "name = input(\"Whats your name?\")\n",
    "\n",
    "users_info_dict[name] = address\n",
    "print(\"users info\")\n",
    "print(users_info_dict)"
   ]
  },
  {
   "cell_type": "code",
   "execution_count": null,
   "id": "c091033a",
   "metadata": {},
   "outputs": [],
   "source": [
    "def address_book():\n",
    "    users_info_dict = {}\n",
    "    while True:\n",
    "        question = input(\"Do you want to add a contact? Type 'y' yes, 'q' to quit \")\n",
    "    if question == q:\n",
    "        break\n",
    "    \n",
    "    address = input(\"Whats your adress? If you want to quit type 'q'.\")\n",
    "    name = input(\"Whats your name? If you want to quit type 'q'.\")\n",
    "    users_info_dict['name'] = 'adress'\n",
    "        \n",
    "#         print(users_address)\n",
    "#         print(users_name)\n",
    "\n",
    "print(addres_book)"
   ]
  },
  {
   "cell_type": "code",
   "execution_count": null,
   "id": "5bc28b09",
   "metadata": {},
   "outputs": [],
   "source": [
    "print(\"Address bok\")\n",
    "    for name, address in users_info_dict.items():\n",
    "        print(f\"{name} {address}"
   ]
  },
  {
   "cell_type": "code",
   "execution_count": null,
   "id": "b57422d4",
   "metadata": {},
   "outputs": [],
   "source": [
    "#1.Create an function named address book that will store users name and adress.\n",
    "#2.Create an empty dict to store name(key) address(value). \n",
    "#3.Start function with a while loop so it will continuously ask the user for their info. \n",
    "#4.Give the user the option to to quit or to answer the questions using input. \n",
    "#5.Place the \"answer\" in an if satement to allow user to quit or keep answering the questions. \n",
    "#6.Ask user for name and agrees uing input. \n",
    "#7.Store ussers info in adress dictionary, name=key adress=value\n",
    "#8.When the user breaks the loop unpack dictionary using a for loop and .items, and print.\n",
    "#9.Run fucntion.\n",
    "\n",
    "def address_book():\n",
    "    users_info_dict = {}\n",
    "    while True:\n",
    "        question1 = input(\"Do you want to add a name and adress? Enter 'y' to contiue or 'n' to quit: \")\n",
    "    \n",
    "        if question1.lower() == 'n':\n",
    "            break\n",
    "    \n",
    "        name = input(\"What's the name: \")\n",
    "        address = input(\"What's the address: \")\n",
    "        \n",
    "        users_info_dict[name] = address\n",
    "        \n",
    "    print(\"Address book:\")\n",
    "    for name, address in users_info_dict.items():\n",
    "        print(f\"{name}: {address}\")\n",
    "\n",
    "address_book()"
   ]
  },
  {
   "cell_type": "code",
   "execution_count": null,
   "id": "0ef10abf",
   "metadata": {},
   "outputs": [],
   "source": [
    "person1 = ['09:00', '10:30', '11:30', '12:00', '13:00', '14:30']\n",
    "person2 = ['09:30', '10:00', '10:30', '12:00', '14:30', '16:00']\n",
    "person3 = ['09:00', '09:30', '11:00', '11:30', '12:00', '13:30', '14:30', '15:00']\n",
    "person4 = ['11:00', '11:30', '12:00', '14:00', '14:30', '16:30', '17:00']\n",
    "# Available Times: '12:00' and '14:30'"
   ]
  },
  {
   "cell_type": "code",
   "execution_count": null,
   "id": "3b28a38b",
   "metadata": {},
   "outputs": [],
   "source": [
    "person1 = ['09:00', '10:30', '11:30', '12:00', '13:00', '14:30']\n",
    "person2 = ['09:30', '10:00', '10:30', '12:00', '14:30', '16:00']\n",
    "person3 = ['09:00', '09:30', '11:00', '11:30', '12:00', '13:30', '14:30', '15:00']\n",
    "person4 = ['11:00', '11:30', '12:00', '14:00', '14:30', '16:30', '17:00']\n",
    "\n",
    "person1 = set(person1)\n",
    "person2 = set(person2)\n",
    "person3 = set(person3)\n",
    "person4 = set(person4)\n",
    "\n",
    "print(person1 & person2 & person3)"
   ]
  },
  {
   "cell_type": "code",
   "execution_count": null,
   "id": "6855c499",
   "metadata": {},
   "outputs": [],
   "source": [
    "def meeting_time(*times):\n",
    "    for x in times:\n",
    "        \n",
    "\n",
    "meeting_times(person1, person2, person3, person4)"
   ]
  }
 ],
 "metadata": {
  "kernelspec": {
   "display_name": "Python 3 (ipykernel)",
   "language": "python",
   "name": "python3"
  },
  "language_info": {
   "codemirror_mode": {
    "name": "ipython",
    "version": 3
   },
   "file_extension": ".py",
   "mimetype": "text/x-python",
   "name": "python",
   "nbconvert_exporter": "python",
   "pygments_lexer": "ipython3",
   "version": "3.9.13"
  }
 },
 "nbformat": 4,
 "nbformat_minor": 5
}
